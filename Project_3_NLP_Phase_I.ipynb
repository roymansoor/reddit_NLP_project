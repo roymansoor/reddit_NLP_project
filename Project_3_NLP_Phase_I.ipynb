{
 "cells": [
  {
   "cell_type": "markdown",
   "metadata": {},
   "source": [
    "## Imports"
   ]
  },
  {
   "cell_type": "code",
   "execution_count": 2,
   "metadata": {},
   "outputs": [],
   "source": [
    "import pandas as pd\n",
    "import numpy as np\n",
    "import datetime as dt\n",
    "import time\n",
    "import requests\n",
    "import json"
   ]
  },
  {
   "cell_type": "markdown",
   "metadata": {},
   "source": [
    "## API- Data import"
   ]
  },
  {
   "cell_type": "code",
   "execution_count": 3,
   "metadata": {},
   "outputs": [],
   "source": [
    "def query_pushshift(subreddit, kind='submission', skip=30, times=6, \n",
    "                    subfield = ['title', 'selftext', 'subreddit', 'created_utc', 'author', 'num_comments', 'score', 'is_self'],\n",
    "                    comfields = ['body', 'score', 'created_utc']):\n",
    "\n",
    "    stem = \"https://api.pushshift.io/reddit/search/{}/?subreddit={}&size=500\".format(kind, subreddit)\n",
    "    mylist = []\n",
    "    \n",
    "    for x in range(1, times):\n",
    "        \n",
    "        URL = \"{}&after={}d\".format(stem, skip * x)\n",
    "        print(URL)\n",
    "        response = requests.get(URL)\n",
    "        assert response.status_code == 200\n",
    "        mine = response.json()['data']\n",
    "        df = pd.DataFrame.from_dict(mine)\n",
    "        mylist.append(df)\n",
    "        time.sleep(2)\n",
    "        \n",
    "    full = pd.concat(mylist, sort=False)\n",
    "    \n",
    "    if kind == \"submission\":\n",
    "        \n",
    "        full = full[subfield]\n",
    "        \n",
    "        full = full.drop_duplicates()\n",
    "        \n",
    "        full = full.loc[full['is_self'] == True]\n",
    "        \n",
    "    def get_date(created):\n",
    "        return dt.date.fromtimestamp(created)\n",
    "    \n",
    "    _timestamp = full[\"created_utc\"].apply(get_date)\n",
    "    \n",
    "    full['timestamp'] = _timestamp\n",
    "\n",
    "    print(full.shape)\n",
    "    \n",
    "    return full"
   ]
  },
  {
   "cell_type": "markdown",
   "metadata": {},
   "source": [
    "## Exploring the Data "
   ]
  },
  {
   "cell_type": "code",
   "execution_count": 4,
   "metadata": {
    "scrolled": false
   },
   "outputs": [
    {
     "name": "stdout",
     "output_type": "stream",
     "text": [
      "https://api.pushshift.io/reddit/search/submission/?subreddit=love&size=500&after=30d\n",
      "https://api.pushshift.io/reddit/search/submission/?subreddit=love&size=500&after=60d\n",
      "https://api.pushshift.io/reddit/search/submission/?subreddit=love&size=500&after=90d\n",
      "https://api.pushshift.io/reddit/search/submission/?subreddit=love&size=500&after=120d\n",
      "https://api.pushshift.io/reddit/search/submission/?subreddit=love&size=500&after=150d\n",
      "(2476, 9)\n"
     ]
    }
   ],
   "source": [
    "df1=query_pushshift('love')"
   ]
  },
  {
   "cell_type": "code",
   "execution_count": 5,
   "metadata": {},
   "outputs": [
    {
     "name": "stdout",
     "output_type": "stream",
     "text": [
      "https://api.pushshift.io/reddit/search/submission/?subreddit=AskReddit&size=500&after=30d\n",
      "https://api.pushshift.io/reddit/search/submission/?subreddit=AskReddit&size=500&after=60d\n",
      "https://api.pushshift.io/reddit/search/submission/?subreddit=AskReddit&size=500&after=90d\n",
      "https://api.pushshift.io/reddit/search/submission/?subreddit=AskReddit&size=500&after=120d\n",
      "https://api.pushshift.io/reddit/search/submission/?subreddit=AskReddit&size=500&after=150d\n",
      "(2499, 9)\n"
     ]
    }
   ],
   "source": [
    "df2=query_pushshift('AskReddit')"
   ]
  },
  {
   "cell_type": "code",
   "execution_count": 6,
   "metadata": {},
   "outputs": [
    {
     "data": {
      "text/html": [
       "<div>\n",
       "<style scoped>\n",
       "    .dataframe tbody tr th:only-of-type {\n",
       "        vertical-align: middle;\n",
       "    }\n",
       "\n",
       "    .dataframe tbody tr th {\n",
       "        vertical-align: top;\n",
       "    }\n",
       "\n",
       "    .dataframe thead th {\n",
       "        text-align: right;\n",
       "    }\n",
       "</style>\n",
       "<table border=\"1\" class=\"dataframe\">\n",
       "  <thead>\n",
       "    <tr style=\"text-align: right;\">\n",
       "      <th></th>\n",
       "      <th>title</th>\n",
       "      <th>selftext</th>\n",
       "      <th>subreddit</th>\n",
       "      <th>created_utc</th>\n",
       "      <th>author</th>\n",
       "      <th>num_comments</th>\n",
       "      <th>score</th>\n",
       "      <th>is_self</th>\n",
       "      <th>timestamp</th>\n",
       "    </tr>\n",
       "  </thead>\n",
       "  <tbody>\n",
       "    <tr>\n",
       "      <th>0</th>\n",
       "      <td>Does my boss like him in more of a romantic way?</td>\n",
       "      <td>I’m a girl and he is a guy. He’s not “technica...</td>\n",
       "      <td>love</td>\n",
       "      <td>1551837629</td>\n",
       "      <td>kristiesmerrill</td>\n",
       "      <td>1</td>\n",
       "      <td>1</td>\n",
       "      <td>True</td>\n",
       "      <td>2019-03-05</td>\n",
       "    </tr>\n",
       "    <tr>\n",
       "      <th>1</th>\n",
       "      <td>Love?</td>\n",
       "      <td>Sometimes they say that being single is more f...</td>\n",
       "      <td>love</td>\n",
       "      <td>1551844579</td>\n",
       "      <td>Kookies_Pizza</td>\n",
       "      <td>0</td>\n",
       "      <td>3</td>\n",
       "      <td>True</td>\n",
       "      <td>2019-03-05</td>\n",
       "    </tr>\n",
       "    <tr>\n",
       "      <th>2</th>\n",
       "      <td>LABOUR-INVESTIGATION</td>\n",
       "      <td>\\n\\nWe are one of the best and recognized lab...</td>\n",
       "      <td>love</td>\n",
       "      <td>1551849679</td>\n",
       "      <td>ravisharma396</td>\n",
       "      <td>0</td>\n",
       "      <td>1</td>\n",
       "      <td>True</td>\n",
       "      <td>2019-03-06</td>\n",
       "    </tr>\n",
       "    <tr>\n",
       "      <th>3</th>\n",
       "      <td>PRE MATRIMONIAL INVESTIGATIONS</td>\n",
       "      <td>\\n\\nMatrimonial dispute develop due to suspic...</td>\n",
       "      <td>love</td>\n",
       "      <td>1551850777</td>\n",
       "      <td>ravisharma396</td>\n",
       "      <td>0</td>\n",
       "      <td>1</td>\n",
       "      <td>True</td>\n",
       "      <td>2019-03-06</td>\n",
       "    </tr>\n",
       "    <tr>\n",
       "      <th>4</th>\n",
       "      <td>What is love?</td>\n",
       "      <td></td>\n",
       "      <td>love</td>\n",
       "      <td>1551860392</td>\n",
       "      <td>Fathomlesssoul</td>\n",
       "      <td>11</td>\n",
       "      <td>5</td>\n",
       "      <td>True</td>\n",
       "      <td>2019-03-06</td>\n",
       "    </tr>\n",
       "  </tbody>\n",
       "</table>\n",
       "</div>"
      ],
      "text/plain": [
       "                                              title  \\\n",
       "0  Does my boss like him in more of a romantic way?   \n",
       "1                                             Love?   \n",
       "2                              LABOUR-INVESTIGATION   \n",
       "3                    PRE MATRIMONIAL INVESTIGATIONS   \n",
       "4                                     What is love?   \n",
       "\n",
       "                                            selftext subreddit  created_utc  \\\n",
       "0  I’m a girl and he is a guy. He’s not “technica...      love   1551837629   \n",
       "1  Sometimes they say that being single is more f...      love   1551844579   \n",
       "2   \\n\\nWe are one of the best and recognized lab...      love   1551849679   \n",
       "3   \\n\\nMatrimonial dispute develop due to suspic...      love   1551850777   \n",
       "4                                                         love   1551860392   \n",
       "\n",
       "            author  num_comments  score  is_self   timestamp  \n",
       "0  kristiesmerrill             1      1     True  2019-03-05  \n",
       "1    Kookies_Pizza             0      3     True  2019-03-05  \n",
       "2    ravisharma396             0      1     True  2019-03-06  \n",
       "3    ravisharma396             0      1     True  2019-03-06  \n",
       "4   Fathomlesssoul            11      5     True  2019-03-06  "
      ]
     },
     "execution_count": 6,
     "metadata": {},
     "output_type": "execute_result"
    }
   ],
   "source": [
    "df1.head()"
   ]
  },
  {
   "cell_type": "code",
   "execution_count": 7,
   "metadata": {},
   "outputs": [
    {
     "data": {
      "text/html": [
       "<div>\n",
       "<style scoped>\n",
       "    .dataframe tbody tr th:only-of-type {\n",
       "        vertical-align: middle;\n",
       "    }\n",
       "\n",
       "    .dataframe tbody tr th {\n",
       "        vertical-align: top;\n",
       "    }\n",
       "\n",
       "    .dataframe thead th {\n",
       "        text-align: right;\n",
       "    }\n",
       "</style>\n",
       "<table border=\"1\" class=\"dataframe\">\n",
       "  <thead>\n",
       "    <tr style=\"text-align: right;\">\n",
       "      <th></th>\n",
       "      <th>title</th>\n",
       "      <th>selftext</th>\n",
       "      <th>subreddit</th>\n",
       "      <th>created_utc</th>\n",
       "      <th>author</th>\n",
       "      <th>num_comments</th>\n",
       "      <th>score</th>\n",
       "      <th>is_self</th>\n",
       "      <th>timestamp</th>\n",
       "    </tr>\n",
       "  </thead>\n",
       "  <tbody>\n",
       "    <tr>\n",
       "      <th>0</th>\n",
       "      <td>What's the worst experience you have had with ...</td>\n",
       "      <td></td>\n",
       "      <td>AskReddit</td>\n",
       "      <td>1551833827</td>\n",
       "      <td>broken-fingers-37</td>\n",
       "      <td>2</td>\n",
       "      <td>2</td>\n",
       "      <td>True</td>\n",
       "      <td>2019-03-05</td>\n",
       "    </tr>\n",
       "    <tr>\n",
       "      <th>1</th>\n",
       "      <td>What pets are low maintenance but still provid...</td>\n",
       "      <td></td>\n",
       "      <td>AskReddit</td>\n",
       "      <td>1551833827</td>\n",
       "      <td>CraftyExpression</td>\n",
       "      <td>22</td>\n",
       "      <td>3</td>\n",
       "      <td>True</td>\n",
       "      <td>2019-03-05</td>\n",
       "    </tr>\n",
       "    <tr>\n",
       "      <th>2</th>\n",
       "      <td>What’s something you can comment to get instan...</td>\n",
       "      <td></td>\n",
       "      <td>AskReddit</td>\n",
       "      <td>1551833829</td>\n",
       "      <td>JAWinks</td>\n",
       "      <td>10</td>\n",
       "      <td>0</td>\n",
       "      <td>True</td>\n",
       "      <td>2019-03-05</td>\n",
       "    </tr>\n",
       "    <tr>\n",
       "      <th>3</th>\n",
       "      <td>When is it ok to curse in front of children?</td>\n",
       "      <td></td>\n",
       "      <td>AskReddit</td>\n",
       "      <td>1551833830</td>\n",
       "      <td>OnlyInMyDreams73</td>\n",
       "      <td>9</td>\n",
       "      <td>1</td>\n",
       "      <td>True</td>\n",
       "      <td>2019-03-05</td>\n",
       "    </tr>\n",
       "    <tr>\n",
       "      <th>4</th>\n",
       "      <td>What is the most badass fight scenario you can...</td>\n",
       "      <td></td>\n",
       "      <td>AskReddit</td>\n",
       "      <td>1551833830</td>\n",
       "      <td>Cheesegratersuicide</td>\n",
       "      <td>5</td>\n",
       "      <td>4</td>\n",
       "      <td>True</td>\n",
       "      <td>2019-03-05</td>\n",
       "    </tr>\n",
       "  </tbody>\n",
       "</table>\n",
       "</div>"
      ],
      "text/plain": [
       "                                               title selftext  subreddit  \\\n",
       "0  What's the worst experience you have had with ...           AskReddit   \n",
       "1  What pets are low maintenance but still provid...           AskReddit   \n",
       "2  What’s something you can comment to get instan...           AskReddit   \n",
       "3       When is it ok to curse in front of children?           AskReddit   \n",
       "4  What is the most badass fight scenario you can...           AskReddit   \n",
       "\n",
       "   created_utc               author  num_comments  score  is_self   timestamp  \n",
       "0   1551833827    broken-fingers-37             2      2     True  2019-03-05  \n",
       "1   1551833827     CraftyExpression            22      3     True  2019-03-05  \n",
       "2   1551833829              JAWinks            10      0     True  2019-03-05  \n",
       "3   1551833830     OnlyInMyDreams73             9      1     True  2019-03-05  \n",
       "4   1551833830  Cheesegratersuicide             5      4     True  2019-03-05  "
      ]
     },
     "execution_count": 7,
     "metadata": {},
     "output_type": "execute_result"
    }
   ],
   "source": [
    "df2.head()"
   ]
  },
  {
   "cell_type": "code",
   "execution_count": 109,
   "metadata": {},
   "outputs": [],
   "source": [
    "df=pd.concat([df1,df2])"
   ]
  },
  {
   "cell_type": "code",
   "execution_count": 110,
   "metadata": {},
   "outputs": [
    {
     "data": {
      "text/html": [
       "<div>\n",
       "<style scoped>\n",
       "    .dataframe tbody tr th:only-of-type {\n",
       "        vertical-align: middle;\n",
       "    }\n",
       "\n",
       "    .dataframe tbody tr th {\n",
       "        vertical-align: top;\n",
       "    }\n",
       "\n",
       "    .dataframe thead th {\n",
       "        text-align: right;\n",
       "    }\n",
       "</style>\n",
       "<table border=\"1\" class=\"dataframe\">\n",
       "  <thead>\n",
       "    <tr style=\"text-align: right;\">\n",
       "      <th></th>\n",
       "      <th>title</th>\n",
       "      <th>selftext</th>\n",
       "      <th>subreddit</th>\n",
       "      <th>created_utc</th>\n",
       "      <th>author</th>\n",
       "      <th>num_comments</th>\n",
       "      <th>score</th>\n",
       "      <th>is_self</th>\n",
       "      <th>timestamp</th>\n",
       "    </tr>\n",
       "  </thead>\n",
       "  <tbody>\n",
       "    <tr>\n",
       "      <th>0</th>\n",
       "      <td>Missed opportunities...</td>\n",
       "      <td>I want to take a moment to talk about missed o...</td>\n",
       "      <td>love</td>\n",
       "      <td>1551705499</td>\n",
       "      <td>Djjustinjames</td>\n",
       "      <td>4</td>\n",
       "      <td>13</td>\n",
       "      <td>True</td>\n",
       "      <td>2019-03-04</td>\n",
       "    </tr>\n",
       "    <tr>\n",
       "      <th>1</th>\n",
       "      <td>You ever wish you can marry you can marry your...</td>\n",
       "      <td>[removed]</td>\n",
       "      <td>love</td>\n",
       "      <td>1551707553</td>\n",
       "      <td>expressnollytv</td>\n",
       "      <td>0</td>\n",
       "      <td>1</td>\n",
       "      <td>True</td>\n",
       "      <td>2019-03-04</td>\n",
       "    </tr>\n",
       "    <tr>\n",
       "      <th>2</th>\n",
       "      <td>You ever fall inlove with your own cousin and ...</td>\n",
       "      <td>[removed]</td>\n",
       "      <td>love</td>\n",
       "      <td>1551708161</td>\n",
       "      <td>expressnollytv</td>\n",
       "      <td>0</td>\n",
       "      <td>1</td>\n",
       "      <td>True</td>\n",
       "      <td>2019-03-04</td>\n",
       "    </tr>\n",
       "    <tr>\n",
       "      <th>3</th>\n",
       "      <td>My Love is My Own</td>\n",
       "      <td>My love is my own.\\n\\nIt is most powerful and ...</td>\n",
       "      <td>love</td>\n",
       "      <td>1551712603</td>\n",
       "      <td>nursexoxo</td>\n",
       "      <td>1</td>\n",
       "      <td>4</td>\n",
       "      <td>True</td>\n",
       "      <td>2019-03-04</td>\n",
       "    </tr>\n",
       "    <tr>\n",
       "      <th>4</th>\n",
       "      <td>The day my stalker became the love of my life....</td>\n",
       "      <td>Things can change in an instant. In one blink ...</td>\n",
       "      <td>love</td>\n",
       "      <td>1551717644</td>\n",
       "      <td>bburgener</td>\n",
       "      <td>2</td>\n",
       "      <td>0</td>\n",
       "      <td>True</td>\n",
       "      <td>2019-03-04</td>\n",
       "    </tr>\n",
       "  </tbody>\n",
       "</table>\n",
       "</div>"
      ],
      "text/plain": [
       "                                               title  \\\n",
       "0                            Missed opportunities...   \n",
       "1  You ever wish you can marry you can marry your...   \n",
       "2  You ever fall inlove with your own cousin and ...   \n",
       "3                                  My Love is My Own   \n",
       "4  The day my stalker became the love of my life....   \n",
       "\n",
       "                                            selftext subreddit  created_utc  \\\n",
       "0  I want to take a moment to talk about missed o...      love   1551705499   \n",
       "1                                          [removed]      love   1551707553   \n",
       "2                                          [removed]      love   1551708161   \n",
       "3  My love is my own.\\n\\nIt is most powerful and ...      love   1551712603   \n",
       "4  Things can change in an instant. In one blink ...      love   1551717644   \n",
       "\n",
       "           author  num_comments  score  is_self   timestamp  \n",
       "0   Djjustinjames             4     13     True  2019-03-04  \n",
       "1  expressnollytv             0      1     True  2019-03-04  \n",
       "2  expressnollytv             0      1     True  2019-03-04  \n",
       "3       nursexoxo             1      4     True  2019-03-04  \n",
       "4       bburgener             2      0     True  2019-03-04  "
      ]
     },
     "execution_count": 110,
     "metadata": {},
     "output_type": "execute_result"
    }
   ],
   "source": [
    "df.head()"
   ]
  },
  {
   "cell_type": "code",
   "execution_count": 111,
   "metadata": {},
   "outputs": [
    {
     "name": "stdout",
     "output_type": "stream",
     "text": [
      "<class 'pandas.core.frame.DataFrame'>\n",
      "Int64Index: 4975 entries, 0 to 499\n",
      "Data columns (total 9 columns):\n",
      "title           4975 non-null object\n",
      "selftext        4975 non-null object\n",
      "subreddit       4975 non-null object\n",
      "created_utc     4975 non-null int64\n",
      "author          4975 non-null object\n",
      "num_comments    4975 non-null int64\n",
      "score           4975 non-null int64\n",
      "is_self         4975 non-null bool\n",
      "timestamp       4975 non-null object\n",
      "dtypes: bool(1), int64(3), object(5)\n",
      "memory usage: 354.7+ KB\n"
     ]
    }
   ],
   "source": [
    "df.info()"
   ]
  },
  {
   "cell_type": "code",
   "execution_count": null,
   "metadata": {},
   "outputs": [],
   "source": []
  },
  {
   "cell_type": "code",
   "execution_count": 112,
   "metadata": {},
   "outputs": [
    {
     "data": {
      "text/plain": [
       "985"
      ]
     },
     "execution_count": 112,
     "metadata": {},
     "output_type": "execute_result"
    }
   ],
   "source": [
    "(df.selftext=='[removed]').sum()"
   ]
  },
  {
   "cell_type": "code",
   "execution_count": 113,
   "metadata": {},
   "outputs": [
    {
     "data": {
      "text/plain": [
       "446"
      ]
     },
     "execution_count": 113,
     "metadata": {},
     "output_type": "execute_result"
    }
   ],
   "source": [
    "(df1.selftext=='[removed]').sum()"
   ]
  },
  {
   "cell_type": "code",
   "execution_count": 114,
   "metadata": {},
   "outputs": [
    {
     "data": {
      "text/plain": [
       "539"
      ]
     },
     "execution_count": 114,
     "metadata": {},
     "output_type": "execute_result"
    }
   ],
   "source": [
    "(df2.selftext=='[removed]').sum()"
   ]
  },
  {
   "cell_type": "markdown",
   "metadata": {},
   "source": [
    "## Saving Data to CSV"
   ]
  },
  {
   "cell_type": "code",
   "execution_count": 115,
   "metadata": {},
   "outputs": [],
   "source": [
    "df.to_csv('./raw_df.csv')"
   ]
  }
 ],
 "metadata": {
  "kernelspec": {
   "display_name": "Python 3",
   "language": "python",
   "name": "python3"
  },
  "language_info": {
   "codemirror_mode": {
    "name": "ipython",
    "version": 3
   },
   "file_extension": ".py",
   "mimetype": "text/x-python",
   "name": "python",
   "nbconvert_exporter": "python",
   "pygments_lexer": "ipython3",
   "version": "3.7.2"
  }
 },
 "nbformat": 4,
 "nbformat_minor": 2
}
